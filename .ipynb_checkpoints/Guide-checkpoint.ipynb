{
 "cells": [
  {
   "cell_type": "markdown",
   "metadata": {
    "editable": true
   },
   "source": [
    "## Set up the workspace before using it!!! \n",
    "* The workspace already has CLI version 1 installed, and you do not have permission to uninstall it permanently. Therefore, you can install a new CLI v2 at a different path. Don't forget to configure the AWS CLI before using it. \n",
    "* Similarly, the workspace already has Node v11.x.x installed already, which is compatible with the existing \"Contacts\" application. \n",
    "* No EB CLI is installed in the workspace. \n",
    "\n",
    "\n",
    "#### Install AWS CLI\n",
    "AWS CLI v2 is installed at another path. You can set an alias to start using the CLI v2 as.\n",
    "```bash\n",
    "alias aws=/opt/FSJSND/aws_cli/v2/current/bin/aws\n",
    "aws --version\n",
    "# Should show aws-cli/2.1.13\n",
    "```\n",
    "#### Alternative method to Install AWS CLI\n",
    "If the command above does not works out, you can do a manual install as: \n",
    "```bash\n",
    "cd\n",
    "curl \"https://awscli.amazonaws.com/awscli-exe-linux-x86_64.zip\" -o \"awscliv2.zip\"\n",
    "unzip awscliv2.zip\n",
    "sudo ./aws/install\n",
    "```\n",
    "\n",
    "```bash\n",
    "which aws\n",
    "# /opt/conda/bin/aws\n",
    "aws --version\n",
    "# Shows AWS CLI v1.x.x\n",
    "/usr/local/bin/aws --version\n",
    "alias aws='/usr/local/bin/aws'\n",
    "aws --version\n",
    "# Shows AWS CLI v2.x.x\n",
    "aws configure\n",
    "```\n",
    "\n",
    "\n",
    "#### Install EB CLI \n",
    "After configuring AWS CLI, install the EB CLI using [setup scripts](https://github.com/aws/aws-elastic-beanstalk-cli-setup), using the command like:\n",
    "```bash\n",
    "# Linux/MacOS\n",
    "cd\n",
    "python -m pip install virtualenv\n",
    "git clone https://github.com/aws/aws-elastic-beanstalk-cli-setup.git\n",
    "python ./aws-elastic-beanstalk-cli-setup/scripts/ebcli_installer.py\n",
    "echo 'export PATH=\"/root/.ebcli-virtual-env/executables:$PATH\"' >> ~/.bash_profile && source ~/.bash_profile\n",
    "eb --version\n",
    "```\n",
    "\n",
    "#### Install again and again\n",
    "The disadvantage of using the classroom workspace is that your installation will not persist across your user sessions. It means, you will have to install AWS CLI and EB CLI each time you visit this page. \n",
    "\n",
    "\n",
    "Also, you will have to run these commands to update the alias and path in every new terminal you open in this workspace :\n",
    "```bash\n",
    "alias aws=/opt/FSJSND/aws_cli/v2/current/bin/aws\n",
    "aws --version\n",
    "# Should show aws-cli/2.1.13\n",
    "```\n",
    "\n",
    "```bash\n",
    "# If you have installed the AWS CLI v2 manually\n",
    "alias aws='/usr/local/bin/aws'\n",
    "aws --version\n",
    "```\n",
    "\n",
    "```bash\n",
    "# Update the path before using the EB CLI\n",
    "echo 'export PATH=\"/root/.ebcli-virtual-env/executables:$PATH\"' >> ~/.bash_profile && source ~/.bash_profile\n",
    "eb --version\n",
    "```\n",
    "\n",
    "\n",
    "#### Follow the classroom instructions to complete the exercise\n",
    "\n",
    "\n"
   ]
  },
  {
   "cell_type": "markdown",
   "metadata": {
    "editable": true
   },
   "source": []
  }
 ],
 "metadata": {
  "kernelspec": {
   "display_name": "Python 3",
   "language": "python",
   "name": "python3"
  },
  "language_info": {
   "codemirror_mode": {
    "name": "ipython",
    "version": 3
   },
   "file_extension": ".py",
   "mimetype": "text/x-python",
   "name": "python",
   "nbconvert_exporter": "python",
   "pygments_lexer": "ipython3",
   "version": "3.6.3"
  },
  "ulab_nb_type": "guided"
 },
 "nbformat": 4,
 "nbformat_minor": 4
}
